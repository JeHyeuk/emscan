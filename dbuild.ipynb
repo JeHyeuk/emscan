{
 "cells": [
  {
   "cell_type": "markdown",
   "metadata": {},
   "source": [
    "# EMS/CAN DATABASE BUILDER"
   ]
  },
  {
   "cell_type": "markdown",
   "metadata": {},
   "source": [
    "## 사용자 설정\n",
    "\n",
    "| SYSTEM CONSTANT | TYPE | EXTENSION | PRE-CONDITION | DEFAULT |   ARGUMENTS  |  FUNCTIONALITY  |\n",
    "|-----------------|------|-----------|---------------|---------|--------------|-----------------|\n",
    "| ENGINEERING_DB  | path |   *.json  |       -       |   \"\"    |       -      | 자체 DB 전체 경로, 빈 값의 경우 SVN 공식 DB 사용 |\n",
    "| SYSTEM_TYPE     | str  |     -     |       -       |  \"ICE\"  | \"ICE\", \"HEV\" | 시스템 사양 정의: ICE 또는 HEV |\n",
    "| COMDEF_PATH     | str  |     -     |       -       |  AUTO   |       -      | 신규 메시지 추가의 경우 모델 경로 입력 |\n",
    "| COMRX_PATH      | str  |     -     |       -       |  AUTO   |       -      | 신규 OS 추가의 경우 모델 경로 입력 |\n",
    "| EXCLUSIVE_ECU   | list |     -     |       -       |  AUTO   | \"ICE\", \"HEV\" | 시스템 사양 정의: ICE 또는 HEV |"
   ]
  },
  {
   "cell_type": "code",
   "execution_count": 7,
   "metadata": {},
   "outputs": [],
   "source": [
    "import emscan as ec\n",
    "\n",
    "ENGINEERING_DB  = r\"\" \n",
    "POWERTRAIN_TYPE = \"ICE\"\n",
    "SOURCE_COMDEF   = ec.PATH.SVN.CAN.file(f\"ComDef{'' if POWERTRAIN_TYPE == 'ICE' else '_HEV'}.zip\")\n",
    "SOURCE_COMRX    = ec.PATH.SVN.CAN.file(f\"ComRx{'' if POWERTRAIN_TYPE == 'ICE' else '_HEV'}.zip\")\n"
   ]
  },
  {
   "cell_type": "markdown",
   "metadata": {},
   "source": [
    "## 초기화"
   ]
  },
  {
   "cell_type": "code",
   "execution_count": 8,
   "metadata": {},
   "outputs": [
    {
     "data": {
      "text/html": [
       "<div>\n",
       "<style scoped>\n",
       "    .dataframe tbody tr th:only-of-type {\n",
       "        vertical-align: middle;\n",
       "    }\n",
       "\n",
       "    .dataframe tbody tr th {\n",
       "        vertical-align: top;\n",
       "    }\n",
       "\n",
       "    .dataframe thead th {\n",
       "        text-align: right;\n",
       "    }\n",
       "</style>\n",
       "<table border=\"1\" class=\"dataframe\">\n",
       "  <thead>\n",
       "    <tr style=\"text-align: right;\">\n",
       "      <th></th>\n",
       "      <th>JSON-DB</th>\n",
       "      <th>DATETIME</th>\n",
       "      <th>REVISION</th>\n",
       "      <th>USER</th>\n",
       "      <th>DB PATH</th>\n",
       "    </tr>\n",
       "  </thead>\n",
       "  <tbody>\n",
       "    <tr>\n",
       "      <th>SVN OFFICIAL DB</th>\n",
       "      <td>KEFICO-EMS_CANFD_V24.11.13.json</td>\n",
       "      <td>2024-11-14 08:46:29</td>\n",
       "      <td>21289</td>\n",
       "      <td>ZS19542@AUTOS</td>\n",
       "      <td>hkmc.ems.bsw.docs/branches/HEPG_Ver1p1/11_Proj...</td>\n",
       "    </tr>\n",
       "  </tbody>\n",
       "</table>\n",
       "</div>"
      ],
      "text/plain": [
       "                                         JSON-DB             DATETIME  \\\n",
       "SVN OFFICIAL DB  KEFICO-EMS_CANFD_V24.11.13.json  2024-11-14 08:46:29   \n",
       "\n",
       "                 REVISION           USER  \\\n",
       "SVN OFFICIAL DB     21289  ZS19542@AUTOS   \n",
       "\n",
       "                                                           DB PATH  \n",
       "SVN OFFICIAL DB  hkmc.ems.bsw.docs/branches/HEPG_Ver1p1/11_Proj...  "
      ]
     },
     "execution_count": 8,
     "metadata": {},
     "output_type": "execute_result"
    }
   ],
   "source": [
    "if ENGINEERING_DB:\n",
    "    ec.DB.reset(ENGINEERING_DB)\n",
    "ec.checkDBVersion(ENGINEERING_DB)"
   ]
  },
  {
   "cell_type": "markdown",
   "metadata": {},
   "source": [
    "## 모델(MD)"
   ]
  },
  {
   "cell_type": "markdown",
   "metadata": {},
   "source": [
    "### %ComDef / %ComDef_HEV\n",
    "\n",
    "예외사항 1. 신규 메시지 추가의 경우<br>\n",
    "1. 소스 모델 내 \"_[메시지명]\"의 신규 프로세스 생성 후 Export\n",
    "2. Export된 모델 경로로 COMDEF_PATH 시스콘 값 업데이트 <br>\n",
    "```COMDEF_PATH = D:\\\\ETASData\\ASCET6.1\\Export\\ComDef\\ComDef.main.amd # ICE CASE```<br>\n",
    "```COMDEF_PATH = D:\\\\ETASData\\ASCET6.1\\Export\\ComDef_HEV\\ComDef_HEV.main.amd # HEV CASE```\n"
   ]
  },
  {
   "cell_type": "code",
   "execution_count": 9,
   "metadata": {},
   "outputs": [
    {
     "name": "stdout",
     "output_type": "stream",
     "text": [
      "모델 생성 완료: C:\\Users\\Administrator\\Downloads\\ComDef\n",
      "삭제된 항목: 없음\n",
      "추가된 항목: AVH_CluDist_Can\n"
     ]
    }
   ],
   "source": [
    "# SOURCE_COMDEF = r\"D:\\ETASData\\ASCET6.1\\Export\\ComDef\\ComDef.main.amd\"\n",
    "\n",
    "exclusive = [\"EMS\", \"CVVD\", \"MHSG\", \"NOx\"]\n",
    "if POWERTRAIN_TYPE == \"ICE\":\n",
    "    exclusive += [\"BMS\", \"LDC\"]\n",
    "\n",
    "ec.DB.dev_mode(POWERTRAIN_TYPE)\n",
    "ec.DB.constraint(~ec.DB.ECU.isin(exclusive))\n",
    "ec.ComDef(source=SOURCE_COMDEF, database=ec.DB) \\\n",
    "  .write()"
   ]
  },
  {
   "cell_type": "markdown",
   "metadata": {},
   "source": [
    "### %ComRx / %ComRx_HEV\n",
    "\n",
    "예외사항 1. 신규 OS 추가의 경우\n",
    "1. 소스 모델 내 OS Task 신규 생성 후 Export\n",
    "2. Export된 모델 경로로 COMRX_PATH 시스콘 값 업데이트 <br>\n",
    "```COMDEF_PATH = D:\\\\ETASData\\ASCET6.1\\Export\\ComRx\\ComRx.main.amd # ICE CASE```<br>\n",
    "```COMDEF_PATH = D:\\\\ETASData\\ASCET6.1\\Export\\ComRx_HEV\\ComRx_HEV.main.amd # HEV CASE```"
   ]
  },
  {
   "cell_type": "code",
   "execution_count": 10,
   "metadata": {},
   "outputs": [
    {
     "name": "stdout",
     "output_type": "stream",
     "text": [
      "모델 생성 완료: C:\\Users\\Administrator\\Downloads\\ComRx\n"
     ]
    }
   ],
   "source": [
    "# SOURCE_COMRX = r\"D:\\ETASData\\ASCET6.1\\Export\\ComRx\\ComRx.main.amd\"\n",
    "\n",
    "exclusive = [\"EMS\", \"CVVD\", \"MHSG\", \"NOx\"]\n",
    "if POWERTRAIN_TYPE == \"ICE\":\n",
    "    exclusive += [\"BMS\", \"LDC\"]\n",
    "\n",
    "ec.DB.dev_mode(POWERTRAIN_TYPE)\n",
    "ec.DB.constraint(~ec.DB.ECU.isin(exclusive))\n",
    "ec.ComX(source=SOURCE_COMRX, database=ec.DB) \\\n",
    "  .write()"
   ]
  },
  {
   "cell_type": "markdown",
   "metadata": {},
   "source": [
    "## 사양서(SDD)\n",
    "\n",
    "* 주의: C:\\User\\Administrator\\Downloads 또는 사용자 다운로드 경로의 사양서 파일이 열려있지 않아야 합니다."
   ]
  },
  {
   "cell_type": "code",
   "execution_count": 11,
   "metadata": {},
   "outputs": [
    {
     "data": {
      "application/vnd.jupyter.widget-view+json": {
       "model_id": "e52633424d214a29a69d64929d8a9b11",
       "version_major": 2,
       "version_minor": 0
      },
      "text/plain": [
       "  0%|          | 0/43 [00:00<?, ?it/s]"
      ]
     },
     "metadata": {},
     "output_type": "display_data"
    },
    {
     "name": "stdout",
     "output_type": "stream",
     "text": [
      "CAN 사양서 생성 완료: C:\\Users\\Administrator\\Downloads\\KEFICO-EMS_CANFD.docx\n"
     ]
    }
   ],
   "source": [
    "ec.DB.reset()\n",
    "ec.DB.constraint(ec.DB[f'{POWERTRAIN_TYPE} Channel'] != \"\")\n",
    "ec.generateSDD(ec.DB)"
   ]
  },
  {
   "cell_type": "markdown",
   "metadata": {},
   "source": [
    "## 테스트케이스(TC)"
   ]
  },
  {
   "cell_type": "code",
   "execution_count": 12,
   "metadata": {},
   "outputs": [
    {
     "ename": "AttributeError",
     "evalue": "module 'emscan' has no attribute 'TODAY'",
     "output_type": "error",
     "traceback": [
      "\u001b[1;31m---------------------------------------------------------------------------\u001b[0m",
      "\u001b[1;31mAttributeError\u001b[0m                            Traceback (most recent call last)",
      "Cell \u001b[1;32mIn[12], line 7\u001b[0m\n\u001b[0;32m      1\u001b[0m TESTCASE_OPTION \u001b[38;5;241m=\u001b[39m {\n\u001b[0;32m      2\u001b[0m     \u001b[38;5;124m\"\u001b[39m\u001b[38;5;124mRequirement - Traceability\u001b[39m\u001b[38;5;124m\"\u001b[39m    : ec\u001b[38;5;241m.\u001b[39mDB\u001b[38;5;241m.\u001b[39mtraceability,\n\u001b[0;32m      3\u001b[0m     \u001b[38;5;124m\"\u001b[39m\u001b[38;5;124mTest SW\u001b[39m\u001b[38;5;124m\"\u001b[39m                       : \u001b[38;5;124m\"\u001b[39m\u001b[38;5;124mTX4T9MTN9L1N @C20\u001b[39m\u001b[38;5;124m\"\u001b[39m, \n\u001b[0;32m      4\u001b[0m     \u001b[38;5;124m\"\u001b[39m\u001b[38;5;124mTest HW\u001b[39m\u001b[38;5;124m\"\u001b[39m                       : \u001b[38;5;124m\"\u001b[39m\u001b[38;5;124mKappa 1.5 TGDI\u001b[39m\u001b[38;5;124m\"\u001b[39m,\n\u001b[0;32m      5\u001b[0m     \u001b[38;5;124m\"\u001b[39m\u001b[38;5;124mTest Vehicle / Engine / HIL\u001b[39m\u001b[38;5;124m\"\u001b[39m   : \u001b[38;5;124m\"\u001b[39m\u001b[38;5;124mSP3i PROTO(BS6)\u001b[39m\u001b[38;5;124m\"\u001b[39m,\n\u001b[0;32m      6\u001b[0m     \u001b[38;5;124m\"\u001b[39m\u001b[38;5;124mTest Environment\u001b[39m\u001b[38;5;124m\"\u001b[39m              : \u001b[38;5;124m\"\u001b[39m\u001b[38;5;124mDynamic(Chamber)\u001b[39m\u001b[38;5;124m\"\u001b[39m,\n\u001b[1;32m----> 7\u001b[0m     \u001b[38;5;124m\"\u001b[39m\u001b[38;5;124mRemark / Comment\u001b[39m\u001b[38;5;124m\"\u001b[39m              : \u001b[38;5;124mf\u001b[39m\u001b[38;5;124m\"\u001b[39m\u001b[38;5;124mAUTOMATIC TEST CASE V\u001b[39m\u001b[38;5;132;01m{\u001b[39;00m\u001b[43mec\u001b[49m\u001b[38;5;241;43m.\u001b[39;49m\u001b[43mTODAY\u001b[49m\u001b[38;5;132;01m}\u001b[39;00m\u001b[38;5;124m\"\u001b[39m,\n\u001b[0;32m      8\u001b[0m     \u001b[38;5;124m\"\u001b[39m\u001b[38;5;124mMeasure / Log File (.dat)\u001b[39m\u001b[38;5;124m\"\u001b[39m     : \u001b[38;5;124m\"\u001b[39m\u001b[38;5;124m\"\u001b[39m,\n\u001b[0;32m      9\u001b[0m     \u001b[38;5;124m\"\u001b[39m\u001b[38;5;124mMDA Configuration File (.xda)\u001b[39m\u001b[38;5;124m\"\u001b[39m : \u001b[38;5;124m\"\u001b[39m\u001b[38;5;124m\"\u001b[39m,\n\u001b[0;32m     10\u001b[0m     \u001b[38;5;124m\"\u001b[39m\u001b[38;5;124mExperiment File (.exp)\u001b[39m\u001b[38;5;124m\"\u001b[39m        : \u001b[38;5;124m\"\u001b[39m\u001b[38;5;124m\"\u001b[39m,\n\u001b[0;32m     11\u001b[0m }\n",
      "\u001b[1;31mAttributeError\u001b[0m: module 'emscan' has no attribute 'TODAY'"
     ]
    }
   ],
   "source": [
    "TESTCASE_OPTION = {\n",
    "    \"Requirement - Traceability\"    : ec.DB.traceability,\n",
    "    \"Test SW\"                       : \"TX4T9MTN9L1N @C20\", \n",
    "    \"Test HW\"                       : \"Kappa 1.5 TGDI\",\n",
    "    \"Test Vehicle / Engine / HIL\"   : \"SP3i PROTO(BS6)\",\n",
    "    \"Test Environment\"              : \"Dynamic(Chamber)\",\n",
    "    \"Remark / Comment\"              : f\"AUTOMATIC TEST CASE V{ec.TODAY}\",\n",
    "    \"Measure / Log File (.dat)\"     : \"\",\n",
    "    \"MDA Configuration File (.xda)\" : \"\",\n",
    "    \"Experiment File (.exp)\"        : \"\",\n",
    "}"
   ]
  },
  {
   "cell_type": "markdown",
   "metadata": {},
   "source": [
    "### 1. 수신 디코드(DECODE)\n",
    "\n",
    "* 전수 생성의 경우 "
   ]
  },
  {
   "cell_type": "code",
   "execution_count": null,
   "metadata": {},
   "outputs": [],
   "source": [
    "testcase = ec.testCaseRxDecode(ec.DB(\"ABS_ESC_01_10ms\"), **TESTCASE_OPTION)\n",
    "testcase.saveToTestReport()"
   ]
  },
  {
   "cell_type": "markdown",
   "metadata": {},
   "source": [
    "### 2. 송신 인터페이스"
   ]
  },
  {
   "cell_type": "code",
   "execution_count": null,
   "metadata": {},
   "outputs": [],
   "source": []
  }
 ],
 "metadata": {
  "kernelspec": {
   "display_name": "Python 3",
   "language": "python",
   "name": "python3"
  },
  "language_info": {
   "codemirror_mode": {
    "name": "ipython",
    "version": 3
   },
   "file_extension": ".py",
   "mimetype": "text/x-python",
   "name": "python",
   "nbconvert_exporter": "python",
   "pygments_lexer": "ipython3",
   "version": "3.10.11"
  }
 },
 "nbformat": 4,
 "nbformat_minor": 2
}
