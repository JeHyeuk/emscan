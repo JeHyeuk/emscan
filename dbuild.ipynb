{
 "cells": [
  {
   "cell_type": "markdown",
   "metadata": {},
   "source": [
    "# EMS/CAN DATABASE BUILDER"
   ]
  },
  {
   "cell_type": "markdown",
   "metadata": {},
   "source": [
    "## 사용자 설정\n",
    "\n",
    "| SYSTEM CONSTANT | TYPE |    EXTENSION   | PRE-CONDITION | DEFAULT |   ARGUMENTS  |  FUNCTIONALITY  |\n",
    "|-----------------|------|----------------|---------------|---------|--------------|-----------------|\n",
    "| ENGINEERING_DB  | path | *.json, *.xlsx |       -       |   \"\"    |       -      | 자체 DB 전체 경로, 빈 값의 경우 SVN 공식 DB 사용 |\n",
    "| SYSTEM_TYPE     | str  |        -       |       -       |  \"ICE\"  | \"ICE\", \"HEV\" | 시스템 사양 정의: ICE 또는 HEV |"
   ]
  },
  {
   "cell_type": "code",
   "execution_count": null,
   "metadata": {},
   "outputs": [],
   "source": [
    "import emscan as ec\n",
    "\n",
    "ENGINEERING_DB  = r\"\" \n",
    "POWERTRAIN_TYPE = \"HEV\""
   ]
  },
  {
   "cell_type": "markdown",
   "metadata": {},
   "source": [
    "## 초기화"
   ]
  },
  {
   "cell_type": "code",
   "execution_count": null,
   "metadata": {},
   "outputs": [],
   "source": [
    "ec.SourceControl.update(\n",
    "    ec.PATH.SVN.CAN.DB,\n",
    "    ec.PATH.SVN.CAN.MD,\n",
    "    ec.PATH.SVN.BUILD.SDD,\n",
    "    ec.PATH.SVN.BUILD.CONF\n",
    ")\n",
    "\n",
    "if ENGINEERING_DB:\n",
    "    ec.DB.reset(ENGINEERING_DB)\n",
    "print(\"DB INFO:\")\n",
    "ec.DBio.baseline(ENGINEERING_DB)"
   ]
  },
  {
   "cell_type": "markdown",
   "metadata": {},
   "source": [
    "## DBC"
   ]
  },
  {
   "cell_type": "code",
   "execution_count": null,
   "metadata": {},
   "outputs": [],
   "source": [
    "# TODO\n",
    "# Vector DBC Write 신규 작성"
   ]
  },
  {
   "cell_type": "markdown",
   "metadata": {},
   "source": [
    "## 모델(MD)"
   ]
  },
  {
   "cell_type": "markdown",
   "metadata": {},
   "source": [
    "### %ComDef / %ComDef_HEV\n",
    "\n",
    "예외사항 1. 신규 메시지 추가의 경우<br>\n",
    "1. 소스 모델 내 \"_[메시지명]\"의 신규 프로세스 생성 후 Export\n",
    "2. Export된 모델 경로로 COMDEF_PATH 시스콘 값 업데이트 <br>\n",
    "```COMDEF_PATH = D:\\\\ETASData\\ASCET6.1\\Export\\ComDef\\ComDef.main.amd # ICE CASE```<br>\n",
    "```COMDEF_PATH = D:\\\\ETASData\\ASCET6.1\\Export\\ComDef_HEV\\ComDef_HEV.main.amd # HEV CASE```\n"
   ]
  },
  {
   "cell_type": "code",
   "execution_count": null,
   "metadata": {},
   "outputs": [],
   "source": [
    "# ---------------------------------------------------------------------------------------------\n",
    "# 기본 소스 사용 시\n",
    "# ---------------------------------------------------------------------------------------------\n",
    "SOURCE_COMDEF = ec.PATH.SVN.CAN.file(f\"ComDef{'' if POWERTRAIN_TYPE == 'ICE' else '_HEV'}.zip\")\n",
    "\n",
    "# ---------------------------------------------------------------------------------------------\n",
    "# 사용자 변경 소스 사용 시\n",
    "# ---------------------------------------------------------------------------------------------\n",
    "# SOURCE_COMDEF = r\"D:\\ETASData\\ASCET6.1\\Export\\ComDef\\ComDef.main.amd\"\n",
    "\n",
    "exclusive = [\"EMS\", \"CVVD\", \"MHSG\", \"NOx\"]\n",
    "if POWERTRAIN_TYPE == \"ICE\":\n",
    "    exclusive += [\"BMS\", \"LDC\"]\n",
    "\n",
    "ec.DB.dev_mode(POWERTRAIN_TYPE)\n",
    "ec.DB.constraint(~ec.DB.ECU.isin(exclusive))\n",
    "ec.ComDef(source=SOURCE_COMDEF, database=ec.DB) \\\n",
    "  .write()"
   ]
  },
  {
   "cell_type": "markdown",
   "metadata": {},
   "source": [
    "### %ComRx / %ComRx_HEV\n",
    "\n",
    "예외사항 1. 신규 OS 추가의 경우\n",
    "1. 소스 모델 내 OS Task 신규 생성 후 Export\n",
    "2. Export된 모델 경로로 COMRX_PATH 시스콘 값 업데이트 <br>\n",
    "```COMDEF_PATH = D:\\\\ETASData\\ASCET6.1\\Export\\ComRx\\ComRx.main.amd # ICE CASE```<br>\n",
    "```COMDEF_PATH = D:\\\\ETASData\\ASCET6.1\\Export\\ComRx_HEV\\ComRx_HEV.main.amd # HEV CASE```"
   ]
  },
  {
   "cell_type": "code",
   "execution_count": null,
   "metadata": {},
   "outputs": [],
   "source": [
    "# ---------------------------------------------------------------------------------------------\n",
    "# 기본 소스 사용 시\n",
    "# ---------------------------------------------------------------------------------------------\n",
    "SOURCE_COMRX = ec.PATH.SVN.CAN.file(f\"ComRx{'' if POWERTRAIN_TYPE == 'ICE' else '_HEV'}.zip\")\n",
    "\n",
    "# ---------------------------------------------------------------------------------------------\n",
    "# 사용자 변경 소스 사용 시\n",
    "# ---------------------------------------------------------------------------------------------\n",
    "# SOURCE_COMRX = r\"D:\\ETASData\\ASCET6.1\\Export\\ComRx\\ComRx.main.amd\"\n",
    "\n",
    "\n",
    "exclusive = [\"EMS\", \"CVVD\", \"MHSG\", \"NOx\"]\n",
    "if POWERTRAIN_TYPE == \"ICE\":\n",
    "    exclusive += [\"BMS\", \"LDC\"]\n",
    "\n",
    "ec.DB.dev_mode(POWERTRAIN_TYPE)\n",
    "ec.DB.constraint(~ec.DB.ECU.isin(exclusive))\n",
    "ec.ComX(source=SOURCE_COMRX, database=ec.DB) \\\n",
    "  .write()"
   ]
  },
  {
   "cell_type": "markdown",
   "metadata": {},
   "source": [
    "## 사양서(SDD)\n",
    "\n",
    "* 주의: C:\\User\\Administrator\\Downloads 또는 사용자 다운로드 경로의 사양서 파일이 열려있지 않아야 합니다."
   ]
  },
  {
   "cell_type": "code",
   "execution_count": null,
   "metadata": {},
   "outputs": [],
   "source": [
    "ec.DB.reset(ENGINEERING_DB)\n",
    "ec.DB.constraint(ec.DB[f'{POWERTRAIN_TYPE} Channel'] != \"\")\n",
    "ec.generateSDD(ec.DB)"
   ]
  },
  {
   "cell_type": "markdown",
   "metadata": {},
   "source": [
    "## 테스트케이스(TC)"
   ]
  },
  {
   "cell_type": "code",
   "execution_count": null,
   "metadata": {},
   "outputs": [],
   "source": [
    "TESTCASE_OPTION = {\n",
    "    \"Requirement - Traceability\"    : ec.DB.traceability,\n",
    "    \"Test SW\"                       : \"TX4T9MTN9L1N @C20\", \n",
    "    \"Test HW\"                       : \"Kappa 1.5 TGDI\",\n",
    "    \"Test Vehicle / Engine / HIL\"   : \"SP3i PROTO(BS6)\",\n",
    "    \"Test Environment\"              : \"Dynamic(Chamber)\",\n",
    "    \"Remark / Comment\"              : f\"AUTOMATIC TEST CASE V{ec.TODAY}\",\n",
    "    \"Measure / Log File (.dat)\"     : \"\",\n",
    "    \"MDA Configuration File (.xda)\" : \"\",\n",
    "    \"Experiment File (.exp)\"        : \"\",\n",
    "}"
   ]
  },
  {
   "cell_type": "markdown",
   "metadata": {},
   "source": [
    "### 1. 수신 디코드(DECODE)\n",
    "\n",
    "* 전수 생성의 경우 "
   ]
  },
  {
   "cell_type": "code",
   "execution_count": null,
   "metadata": {},
   "outputs": [],
   "source": [
    "testcase = ec.testCaseRxDecode(ec.DB(\"ABS_ESC_01_10ms\"), **TESTCASE_OPTION)\n",
    "testcase.generate()\n",
    "testcase.saveToTestReport()"
   ]
  },
  {
   "cell_type": "markdown",
   "metadata": {},
   "source": [
    "### 2. 송신 인터페이스"
   ]
  },
  {
   "cell_type": "code",
   "execution_count": null,
   "metadata": {},
   "outputs": [],
   "source": []
  }
 ],
 "metadata": {
  "kernelspec": {
   "display_name": "Python 3",
   "language": "python",
   "name": "python3"
  },
  "language_info": {
   "codemirror_mode": {
    "name": "ipython",
    "version": 3
   },
   "file_extension": ".py",
   "mimetype": "text/x-python",
   "name": "python",
   "nbconvert_exporter": "python",
   "pygments_lexer": "ipython3",
   "version": "3.10.11"
  }
 },
 "nbformat": 4,
 "nbformat_minor": 2
}
